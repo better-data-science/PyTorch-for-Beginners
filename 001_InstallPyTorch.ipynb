{
 "cells": [
  {
   "attachments": {},
   "cell_type": "markdown",
   "id": "33f99c28-0fef-4cf1-a0a7-8200782e5fe3",
   "metadata": {},
   "source": [
    "# PyTorch for Beginners #1 - Install PyTorch\n",
    "---"
   ]
  },
  {
   "cell_type": "code",
   "execution_count": 1,
   "id": "402ca257-e608-4805-a54e-7b5a4a50e768",
   "metadata": {},
   "outputs": [
    {
     "name": "stdout",
     "output_type": "stream",
     "text": [
      "2.0.1\n"
     ]
    }
   ],
   "source": [
    "# Import PyTorch and print the version\n",
    "\n",
    "import torch\n",
    "\n",
    "print(torch.__version__)"
   ]
  },
  {
   "cell_type": "code",
   "execution_count": 2,
   "id": "a712ca50-46ed-4b12-85b3-017e1e24e301",
   "metadata": {},
   "outputs": [
    {
     "name": "stdout",
     "output_type": "stream",
     "text": [
      "True\n",
      "True\n"
     ]
    }
   ],
   "source": [
    "# Is MPS even available? macOS 12.3+\n",
    "print(torch.backends.mps.is_available())\n",
    "\n",
    "# Was the current version of PyTorch built with MPS activated?\n",
    "print(torch.backends.mps.is_built())"
   ]
  },
  {
   "attachments": {},
   "cell_type": "markdown",
   "id": "a3b707d5",
   "metadata": {},
   "source": [
    "### Check MPS support\n",
    "- Credits: https://towardsdatascience.com/installing-pytorch-on-apple-m1-chip-with-gpu-acceleration-3351dc44d67c"
   ]
  },
  {
   "cell_type": "code",
   "execution_count": 3,
   "id": "0d658abc-22d8-4f99-8c79-5423426e768c",
   "metadata": {},
   "outputs": [
    {
     "name": "stdout",
     "output_type": "stream",
     "text": [
      "99 2010.2127685546875\n",
      "199 1377.5340576171875\n",
      "299 945.9342041015625\n",
      "399 651.167724609375\n",
      "499 449.62261962890625\n",
      "599 311.658447265625\n",
      "699 217.10894775390625\n",
      "799 152.23831176757812\n",
      "899 107.67941284179688\n",
      "999 77.0382080078125\n",
      "1099 55.94413757324219\n",
      "1199 41.40625\n",
      "1299 31.37612533569336\n",
      "1399 24.44859504699707\n",
      "1499 19.658966064453125\n",
      "1599 16.344036102294922\n",
      "1699 14.047463417053223\n",
      "1799 12.454825401306152\n",
      "1899 11.349340438842773\n",
      "1999 10.581279754638672\n",
      "Result: y = 0.03914959728717804 + 0.8373933434486389 x + -0.006753955036401749 x^2 + -0.09057839214801788 x^3\n"
     ]
    }
   ],
   "source": [
    "import math\n",
    "\n",
    "dtype = torch.float\n",
    "device = torch.device(\"mps\")\n",
    "\n",
    "# Create random input and output data\n",
    "x = torch.linspace(-math.pi, math.pi, 2000, device=device, dtype=dtype)\n",
    "y = torch.sin(x)\n",
    "\n",
    "# Randomly initialize weights\n",
    "a = torch.randn((), device=device, dtype=dtype)\n",
    "b = torch.randn((), device=device, dtype=dtype)\n",
    "c = torch.randn((), device=device, dtype=dtype)\n",
    "d = torch.randn((), device=device, dtype=dtype)\n",
    "\n",
    "learning_rate = 1e-6\n",
    "for t in range(2000):\n",
    "    # Forward pass: compute predicted y\n",
    "    y_pred = a + b * x + c * x ** 2 + d * x ** 3\n",
    "\n",
    "    # Compute and print loss\n",
    "    loss = (y_pred - y).pow(2).sum().item()\n",
    "    if t % 100 == 99:\n",
    "        print(t, loss)\n",
    "\n",
    "# Backprop to compute gradients of a, b, c, d with respect to loss\n",
    "    grad_y_pred = 2.0 * (y_pred - y)\n",
    "    grad_a = grad_y_pred.sum()\n",
    "    grad_b = (grad_y_pred * x).sum()\n",
    "    grad_c = (grad_y_pred * x ** 2).sum()\n",
    "    grad_d = (grad_y_pred * x ** 3).sum()\n",
    "\n",
    "    # Update weights using gradient descent\n",
    "    a -= learning_rate * grad_a\n",
    "    b -= learning_rate * grad_b\n",
    "    c -= learning_rate * grad_c\n",
    "    d -= learning_rate * grad_d\n",
    "\n",
    "\n",
    "print(f'Result: y = {a.item()} + {b.item()} x + {c.item()} x^2 + {d.item()} x^3')"
   ]
  }
 ],
 "metadata": {
  "kernelspec": {
   "display_name": "Python 3 (ipykernel)",
   "language": "python",
   "name": "python3"
  },
  "language_info": {
   "codemirror_mode": {
    "name": "ipython",
    "version": 3
   },
   "file_extension": ".py",
   "mimetype": "text/x-python",
   "name": "python",
   "nbconvert_exporter": "python",
   "pygments_lexer": "ipython3",
   "version": "3.9.16"
  }
 },
 "nbformat": 4,
 "nbformat_minor": 5
}
